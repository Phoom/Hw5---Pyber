{
 "cells": [
  {
   "cell_type": "markdown",
   "metadata": {},
   "source": [
    "## Pyber Ride Sharing Data Analysis\n",
    "\n",
    "Analysis:\n",
    "\n",
    "-\tFare cost correlates to the amount of drivers available in a city. More drivers available means lower fare cost; while lower amount of drivers usually means higher fare costs.\n",
    "\n",
    "\n",
    "-\tA large amount of rides are taken in urban areas – which is heavily influence by large amount of available drivers in urban areas (77% of all drivers come from urban areas). A conclusion can be made that more drivers allows for more rides.\n",
    "\n",
    "\n",
    "-\tThe inverse of this previous point is also true – less drivers means less rides. Out of the three area types, rural area ranks the lowest in terms of both driver and ride total. This does not necessarily mean that there is a lack of a market share in rural areas, but rather that there could a demand that is not being met due to lack of drivers. \n",
    "      - There is clearly a demand for rideshare since the market is willing to pay a high fare cost in rural areas. \n",
    "\n"
   ]
  },
  {
   "cell_type": "code",
   "execution_count": 39,
   "metadata": {
    "collapsed": true
   },
   "outputs": [],
   "source": [
    "# Importing libs\n",
    "import matplotlib.pyplot as plt\n",
    "import pandas as pd\n",
    "import numpy as np\n",
    "import os\n",
    "import seaborn as sns\n",
    "\n",
    "from matplotlib.legend_handler import HandlerLine2D"
   ]
  },
  {
   "cell_type": "code",
   "execution_count": 40,
   "metadata": {},
   "outputs": [
    {
     "data": {
      "text/html": [
       "<div>\n",
       "<style>\n",
       "    .dataframe thead tr:only-child th {\n",
       "        text-align: right;\n",
       "    }\n",
       "\n",
       "    .dataframe thead th {\n",
       "        text-align: left;\n",
       "    }\n",
       "\n",
       "    .dataframe tbody tr th {\n",
       "        vertical-align: top;\n",
       "    }\n",
       "</style>\n",
       "<table border=\"1\" class=\"dataframe\">\n",
       "  <thead>\n",
       "    <tr style=\"text-align: right;\">\n",
       "      <th></th>\n",
       "      <th>city</th>\n",
       "      <th>driver_count</th>\n",
       "      <th>type</th>\n",
       "    </tr>\n",
       "  </thead>\n",
       "  <tbody>\n",
       "    <tr>\n",
       "      <th>0</th>\n",
       "      <td>Kelseyland</td>\n",
       "      <td>63</td>\n",
       "      <td>Urban</td>\n",
       "    </tr>\n",
       "    <tr>\n",
       "      <th>1</th>\n",
       "      <td>Nguyenbury</td>\n",
       "      <td>8</td>\n",
       "      <td>Urban</td>\n",
       "    </tr>\n",
       "    <tr>\n",
       "      <th>2</th>\n",
       "      <td>East Douglas</td>\n",
       "      <td>12</td>\n",
       "      <td>Urban</td>\n",
       "    </tr>\n",
       "    <tr>\n",
       "      <th>3</th>\n",
       "      <td>West Dawnfurt</td>\n",
       "      <td>34</td>\n",
       "      <td>Urban</td>\n",
       "    </tr>\n",
       "    <tr>\n",
       "      <th>4</th>\n",
       "      <td>Rodriguezburgh</td>\n",
       "      <td>52</td>\n",
       "      <td>Urban</td>\n",
       "    </tr>\n",
       "  </tbody>\n",
       "</table>\n",
       "</div>"
      ],
      "text/plain": [
       "             city  driver_count   type\n",
       "0      Kelseyland            63  Urban\n",
       "1      Nguyenbury             8  Urban\n",
       "2    East Douglas            12  Urban\n",
       "3   West Dawnfurt            34  Urban\n",
       "4  Rodriguezburgh            52  Urban"
      ]
     },
     "execution_count": 40,
     "metadata": {},
     "output_type": "execute_result"
    }
   ],
   "source": [
    "# CSV reading\n",
    "csv_data_city = os.path.join('city_data.csv')\n",
    "csv_data_ride = os.path.join('ride_data.csv')\n",
    "\n",
    "city_data_df = pd.read_csv(csv_data_city)\n",
    "ride_data_df = pd.read_csv(csv_data_ride)\n",
    "\n",
    "\n",
    "# Output City header\n",
    "city_data_df.head()"
   ]
  },
  {
   "cell_type": "code",
   "execution_count": 41,
   "metadata": {},
   "outputs": [
    {
     "data": {
      "text/html": [
       "<div>\n",
       "<style>\n",
       "    .dataframe thead tr:only-child th {\n",
       "        text-align: right;\n",
       "    }\n",
       "\n",
       "    .dataframe thead th {\n",
       "        text-align: left;\n",
       "    }\n",
       "\n",
       "    .dataframe tbody tr th {\n",
       "        vertical-align: top;\n",
       "    }\n",
       "</style>\n",
       "<table border=\"1\" class=\"dataframe\">\n",
       "  <thead>\n",
       "    <tr style=\"text-align: right;\">\n",
       "      <th></th>\n",
       "      <th>city</th>\n",
       "      <th>date</th>\n",
       "      <th>fare</th>\n",
       "      <th>ride_id</th>\n",
       "    </tr>\n",
       "  </thead>\n",
       "  <tbody>\n",
       "    <tr>\n",
       "      <th>0</th>\n",
       "      <td>Sarabury</td>\n",
       "      <td>2016-01-16 13:49:27</td>\n",
       "      <td>38.35</td>\n",
       "      <td>5403689035038</td>\n",
       "    </tr>\n",
       "    <tr>\n",
       "      <th>1</th>\n",
       "      <td>South Roy</td>\n",
       "      <td>2016-01-02 18:42:34</td>\n",
       "      <td>17.49</td>\n",
       "      <td>4036272335942</td>\n",
       "    </tr>\n",
       "    <tr>\n",
       "      <th>2</th>\n",
       "      <td>Wiseborough</td>\n",
       "      <td>2016-01-21 17:35:29</td>\n",
       "      <td>44.18</td>\n",
       "      <td>3645042422587</td>\n",
       "    </tr>\n",
       "    <tr>\n",
       "      <th>3</th>\n",
       "      <td>Spencertown</td>\n",
       "      <td>2016-07-31 14:53:22</td>\n",
       "      <td>6.87</td>\n",
       "      <td>2242596575892</td>\n",
       "    </tr>\n",
       "    <tr>\n",
       "      <th>4</th>\n",
       "      <td>Nguyenbury</td>\n",
       "      <td>2016-07-09 04:42:44</td>\n",
       "      <td>6.28</td>\n",
       "      <td>1543057793673</td>\n",
       "    </tr>\n",
       "  </tbody>\n",
       "</table>\n",
       "</div>"
      ],
      "text/plain": [
       "          city                 date   fare        ride_id\n",
       "0     Sarabury  2016-01-16 13:49:27  38.35  5403689035038\n",
       "1    South Roy  2016-01-02 18:42:34  17.49  4036272335942\n",
       "2  Wiseborough  2016-01-21 17:35:29  44.18  3645042422587\n",
       "3  Spencertown  2016-07-31 14:53:22   6.87  2242596575892\n",
       "4   Nguyenbury  2016-07-09 04:42:44   6.28  1543057793673"
      ]
     },
     "execution_count": 41,
     "metadata": {},
     "output_type": "execute_result"
    }
   ],
   "source": [
    "# Output Rider header\n",
    "ride_data_df.head()"
   ]
  },
  {
   "cell_type": "code",
   "execution_count": 42,
   "metadata": {},
   "outputs": [
    {
     "data": {
      "text/html": [
       "<div>\n",
       "<style>\n",
       "    .dataframe thead tr:only-child th {\n",
       "        text-align: right;\n",
       "    }\n",
       "\n",
       "    .dataframe thead th {\n",
       "        text-align: left;\n",
       "    }\n",
       "\n",
       "    .dataframe tbody tr th {\n",
       "        vertical-align: top;\n",
       "    }\n",
       "</style>\n",
       "<table border=\"1\" class=\"dataframe\">\n",
       "  <thead>\n",
       "    <tr style=\"text-align: right;\">\n",
       "      <th></th>\n",
       "      <th>city</th>\n",
       "      <th>date</th>\n",
       "      <th>fare</th>\n",
       "      <th>ride_id</th>\n",
       "      <th>driver_count</th>\n",
       "      <th>type</th>\n",
       "    </tr>\n",
       "  </thead>\n",
       "  <tbody>\n",
       "    <tr>\n",
       "      <th>0</th>\n",
       "      <td>Sarabury</td>\n",
       "      <td>2016-01-16 13:49:27</td>\n",
       "      <td>38.35</td>\n",
       "      <td>5403689035038</td>\n",
       "      <td>46</td>\n",
       "      <td>Urban</td>\n",
       "    </tr>\n",
       "    <tr>\n",
       "      <th>1</th>\n",
       "      <td>Sarabury</td>\n",
       "      <td>2016-07-23 07:42:44</td>\n",
       "      <td>21.76</td>\n",
       "      <td>7546681945283</td>\n",
       "      <td>46</td>\n",
       "      <td>Urban</td>\n",
       "    </tr>\n",
       "    <tr>\n",
       "      <th>2</th>\n",
       "      <td>Sarabury</td>\n",
       "      <td>2016-04-02 04:32:25</td>\n",
       "      <td>38.03</td>\n",
       "      <td>4932495851866</td>\n",
       "      <td>46</td>\n",
       "      <td>Urban</td>\n",
       "    </tr>\n",
       "    <tr>\n",
       "      <th>3</th>\n",
       "      <td>Sarabury</td>\n",
       "      <td>2016-06-23 05:03:41</td>\n",
       "      <td>26.82</td>\n",
       "      <td>6711035373406</td>\n",
       "      <td>46</td>\n",
       "      <td>Urban</td>\n",
       "    </tr>\n",
       "    <tr>\n",
       "      <th>4</th>\n",
       "      <td>Sarabury</td>\n",
       "      <td>2016-09-30 12:48:34</td>\n",
       "      <td>30.30</td>\n",
       "      <td>6388737278232</td>\n",
       "      <td>46</td>\n",
       "      <td>Urban</td>\n",
       "    </tr>\n",
       "  </tbody>\n",
       "</table>\n",
       "</div>"
      ],
      "text/plain": [
       "       city                 date   fare        ride_id  driver_count   type\n",
       "0  Sarabury  2016-01-16 13:49:27  38.35  5403689035038            46  Urban\n",
       "1  Sarabury  2016-07-23 07:42:44  21.76  7546681945283            46  Urban\n",
       "2  Sarabury  2016-04-02 04:32:25  38.03  4932495851866            46  Urban\n",
       "3  Sarabury  2016-06-23 05:03:41  26.82  6711035373406            46  Urban\n",
       "4  Sarabury  2016-09-30 12:48:34  30.30  6388737278232            46  Urban"
      ]
     },
     "execution_count": 42,
     "metadata": {},
     "output_type": "execute_result"
    }
   ],
   "source": [
    "# Merging all data into one df\n",
    "city_ride_df = pd.merge(ride_data_df, city_data_df, on = \"city\", how=\"outer\")\n",
    "city_ride_df.head()"
   ]
  },
  {
   "cell_type": "code",
   "execution_count": 43,
   "metadata": {},
   "outputs": [
    {
     "data": {
      "text/html": [
       "<div>\n",
       "<style>\n",
       "    .dataframe thead tr:only-child th {\n",
       "        text-align: right;\n",
       "    }\n",
       "\n",
       "    .dataframe thead th {\n",
       "        text-align: left;\n",
       "    }\n",
       "\n",
       "    .dataframe tbody tr th {\n",
       "        vertical-align: top;\n",
       "    }\n",
       "</style>\n",
       "<table border=\"1\" class=\"dataframe\">\n",
       "  <thead>\n",
       "    <tr style=\"text-align: right;\">\n",
       "      <th></th>\n",
       "      <th>city</th>\n",
       "      <th>driver_count</th>\n",
       "      <th>type</th>\n",
       "    </tr>\n",
       "  </thead>\n",
       "  <tbody>\n",
       "    <tr>\n",
       "      <th>0</th>\n",
       "      <td>Sarabury</td>\n",
       "      <td>46</td>\n",
       "      <td>Urban</td>\n",
       "    </tr>\n",
       "    <tr>\n",
       "      <th>27</th>\n",
       "      <td>South Roy</td>\n",
       "      <td>35</td>\n",
       "      <td>Urban</td>\n",
       "    </tr>\n",
       "    <tr>\n",
       "      <th>49</th>\n",
       "      <td>Wiseborough</td>\n",
       "      <td>55</td>\n",
       "      <td>Urban</td>\n",
       "    </tr>\n",
       "    <tr>\n",
       "      <th>68</th>\n",
       "      <td>Spencertown</td>\n",
       "      <td>68</td>\n",
       "      <td>Urban</td>\n",
       "    </tr>\n",
       "    <tr>\n",
       "      <th>94</th>\n",
       "      <td>Nguyenbury</td>\n",
       "      <td>8</td>\n",
       "      <td>Urban</td>\n",
       "    </tr>\n",
       "  </tbody>\n",
       "</table>\n",
       "</div>"
      ],
      "text/plain": [
       "           city  driver_count   type\n",
       "0      Sarabury            46  Urban\n",
       "27    South Roy            35  Urban\n",
       "49  Wiseborough            55  Urban\n",
       "68  Spencertown            68  Urban\n",
       "94   Nguyenbury             8  Urban"
      ]
     },
     "execution_count": 43,
     "metadata": {},
     "output_type": "execute_result"
    }
   ],
   "source": [
    "city_data_unique = city_ride_df.loc[:, [\"city\", \"driver_count\", \"type\"]]\n",
    "\n",
    "city_data_unique = city_data_unique.drop_duplicates(['city'])\n",
    "\n",
    "city_data_unique.head()"
   ]
  },
  {
   "cell_type": "code",
   "execution_count": 44,
   "metadata": {},
   "outputs": [
    {
     "data": {
      "text/html": [
       "<div>\n",
       "<style>\n",
       "    .dataframe thead tr:only-child th {\n",
       "        text-align: right;\n",
       "    }\n",
       "\n",
       "    .dataframe thead th {\n",
       "        text-align: left;\n",
       "    }\n",
       "\n",
       "    .dataframe tbody tr th {\n",
       "        vertical-align: top;\n",
       "    }\n",
       "</style>\n",
       "<table border=\"1\" class=\"dataframe\">\n",
       "  <thead>\n",
       "    <tr style=\"text-align: right;\">\n",
       "      <th></th>\n",
       "      <th>city</th>\n",
       "      <th>num_rides</th>\n",
       "    </tr>\n",
       "  </thead>\n",
       "  <tbody>\n",
       "    <tr>\n",
       "      <th>0</th>\n",
       "      <td>Alvarezhaven</td>\n",
       "      <td>31</td>\n",
       "    </tr>\n",
       "    <tr>\n",
       "      <th>1</th>\n",
       "      <td>Alyssaberg</td>\n",
       "      <td>26</td>\n",
       "    </tr>\n",
       "    <tr>\n",
       "      <th>2</th>\n",
       "      <td>Anitamouth</td>\n",
       "      <td>9</td>\n",
       "    </tr>\n",
       "    <tr>\n",
       "      <th>3</th>\n",
       "      <td>Antoniomouth</td>\n",
       "      <td>22</td>\n",
       "    </tr>\n",
       "    <tr>\n",
       "      <th>4</th>\n",
       "      <td>Aprilchester</td>\n",
       "      <td>19</td>\n",
       "    </tr>\n",
       "  </tbody>\n",
       "</table>\n",
       "</div>"
      ],
      "text/plain": [
       "           city  num_rides\n",
       "0  Alvarezhaven         31\n",
       "1    Alyssaberg         26\n",
       "2    Anitamouth          9\n",
       "3  Antoniomouth         22\n",
       "4  Aprilchester         19"
      ]
     },
     "execution_count": 44,
     "metadata": {},
     "output_type": "execute_result"
    }
   ],
   "source": [
    "# number of of rides per city\n",
    "num_rides = ride_data_df.groupby([\"city\"])[\"ride_id\"].count()\n",
    "\n",
    "num_rides_df = pd.DataFrame({\"num_rides\": num_rides})\n",
    "\n",
    "\n",
    "num_rides_df = num_rides_df.reset_index()\n",
    "\n",
    "num_rides_df.head()\n",
    "# num_rides_df = num_rides_df.drop_duplicates(subset = 'city')\n",
    "# num_rides_df.loc[num_rides_df['city'] == 'Port James'] #sanity check"
   ]
  },
  {
   "cell_type": "code",
   "execution_count": 45,
   "metadata": {},
   "outputs": [
    {
     "data": {
      "text/html": [
       "<div>\n",
       "<style>\n",
       "    .dataframe thead tr:only-child th {\n",
       "        text-align: right;\n",
       "    }\n",
       "\n",
       "    .dataframe thead th {\n",
       "        text-align: left;\n",
       "    }\n",
       "\n",
       "    .dataframe tbody tr th {\n",
       "        vertical-align: top;\n",
       "    }\n",
       "</style>\n",
       "<table border=\"1\" class=\"dataframe\">\n",
       "  <thead>\n",
       "    <tr style=\"text-align: right;\">\n",
       "      <th></th>\n",
       "      <th>city</th>\n",
       "      <th>mean_fare</th>\n",
       "    </tr>\n",
       "  </thead>\n",
       "  <tbody>\n",
       "    <tr>\n",
       "      <th>0</th>\n",
       "      <td>Alvarezhaven</td>\n",
       "      <td>23.928710</td>\n",
       "    </tr>\n",
       "    <tr>\n",
       "      <th>1</th>\n",
       "      <td>Alyssaberg</td>\n",
       "      <td>20.609615</td>\n",
       "    </tr>\n",
       "    <tr>\n",
       "      <th>2</th>\n",
       "      <td>Anitamouth</td>\n",
       "      <td>37.315556</td>\n",
       "    </tr>\n",
       "    <tr>\n",
       "      <th>3</th>\n",
       "      <td>Antoniomouth</td>\n",
       "      <td>23.625000</td>\n",
       "    </tr>\n",
       "    <tr>\n",
       "      <th>4</th>\n",
       "      <td>Aprilchester</td>\n",
       "      <td>21.981579</td>\n",
       "    </tr>\n",
       "  </tbody>\n",
       "</table>\n",
       "</div>"
      ],
      "text/plain": [
       "           city  mean_fare\n",
       "0  Alvarezhaven  23.928710\n",
       "1    Alyssaberg  20.609615\n",
       "2    Anitamouth  37.315556\n",
       "3  Antoniomouth  23.625000\n",
       "4  Aprilchester  21.981579"
      ]
     },
     "execution_count": 45,
     "metadata": {},
     "output_type": "execute_result"
    }
   ],
   "source": [
    "# add column for mean fares after grouping df by city\n",
    "\n",
    "mean_fare = city_ride_df.groupby([\"city\"])[\"fare\"].mean()\n",
    "\n",
    "\n",
    "#Create a dataframe to hold the city, driver count, and mean fare\n",
    "#summary_table = city_data_unique\n",
    "#summary_table[\"mean_fare\"] = mean_fare\n",
    "\n",
    "\n",
    "mean_fare_df = pd.DataFrame({\"mean_fare\": mean_fare})\n",
    "mean_fare_df = mean_fare_df.reset_index()\n",
    "mean_fare_df.head()\n",
    "\n",
    "# mean_fare_df.loc[mean_fare_df['city'] == 'Port James']"
   ]
  },
  {
   "cell_type": "code",
   "execution_count": 46,
   "metadata": {},
   "outputs": [],
   "source": [
    "# Combining into ultimate dataframe\n",
    "merged_df = pd.merge(city_data_unique, mean_fare_df, on= \"city\", how=\"outer\")\n",
    "merged_df = pd.merge(merged_df, num_rides_df, on= \"city\", how=\"outer\")\n",
    "merged_df.head()\n",
    "\n",
    "# Dataframes for each area type\n",
    "urban_df = merged_df.loc[merged_df['type'] == 'Urban']\n",
    "suburban_df = merged_df.loc[merged_df['type'] == 'Suburban']\n",
    "rural_df = merged_df.loc[merged_df['type'] == 'Rural']"
   ]
  },
  {
   "cell_type": "code",
   "execution_count": 47,
   "metadata": {},
   "outputs": [
    {
     "data": {
      "image/png": "[encoded data removed]",
      "text/plain": [
       "<matplotlib.figure.Figure at 0x104c90400>"
      ]
     },
     "metadata": {},
     "output_type": "display_data"
    }
   ],
   "source": [
    "# Setting something in \n",
    "sns.set()\n",
    "\n",
    "# Labels\n",
    "plt.title(\"Pyber Ride Sharing Data (20XX)\")\n",
    "plt.xlabel(\"Total Nmber of Rides (Per City)\")\n",
    "plt.ylabel(\"Average Fare ($)\")\n",
    "\n",
    "# Setting X Y limits (based on +5/-5 of min/max of fare)\n",
    "plt.ylim( min(merged_df[\"mean_fare\"]) - 5, max(merged_df[\"mean_fare\"]) + 5)\n",
    "\n",
    "# Setting plot based on rides/mean and color\n",
    "lightcoral = plt.scatter(urban_df[\"num_rides\"], urban_df[\"mean_fare\"], s=urban_df[\"driver_count\"], c='lightcoral', edgecolor = 'black')\n",
    "lightskyblue = plt.scatter(suburban_df[\"num_rides\"], suburban_df[\"mean_fare\"], s=suburban_df[\"driver_count\"], c='lightskyblue', edgecolor = 'black')\n",
    "gold = plt.scatter(rural_df[\"num_rides\"], rural_df[\"mean_fare\"], s=rural_df[\"driver_count\"], c='gold',edgecolor = 'black')\n",
    "\n",
    "# plotting it up\n",
    "plt.legend([lightcoral, lightskyblue, gold], [\"Urban\", \"Suburban\", \"Rural\"])\n",
    "\n",
    "# render scatterplot\n",
    "plt.show()"
   ]
  },
  {
   "cell_type": "code",
   "execution_count": 48,
   "metadata": {},
   "outputs": [],
   "source": [
    "# In addition, you will be expected to produce the following three pie charts:\n",
    "# % of Total Fares by City Type\n",
    "# % of Total Rides by City Type\n",
    "# % of Total Drivers by City Type"
   ]
  },
  {
   "cell_type": "code",
   "execution_count": 49,
   "metadata": {},
   "outputs": [
    {
     "data": {
      "image/png": "[encoded data removed]",
      "text/plain": [
       "<matplotlib.figure.Figure at 0x10f8ecc18>"
      ]
     },
     "metadata": {},
     "output_type": "display_data"
    }
   ],
   "source": [
    "### Pie Chart - % of Total Fares by City Type\n",
    "total_fares = city_ride_df[\"fare\"].sum()\n",
    "\n",
    "total_fares_type = city_ride_df.groupby([\"type\"]).sum()\n",
    "#total_fares_type\n",
    "\n",
    "total_fares_type[\"pct_total_fare\"] = (total_fares_type[\"fare\"]/total_fares) * 100\n",
    "\n",
    "# create pie chart\n",
    "col_list = pd.DataFrame({\"type\": total_fares_type.index.values})\n",
    "col_map = col_list[\"type\"].map({\"Urban\": \"lightcoral\", \"Suburban\": \"lightskyblue\", \"Rural\": \"gold\"})\n",
    "explode = [0,0,.1] # PAC MAN NOM NOM NOM NOM\n",
    "\n",
    "plt.pie(total_fares_type[\"pct_total_fare\"], labels=total_fares_type.index, colors=col_map,\n",
    "       autopct=\"%1.1f%%\", shadow=True, startangle=140, explode=explode)\n",
    "\n",
    "#shadow, startangle, and explosion\n",
    "\n",
    "#print(total_fares_type)\n",
    "plt.title(\"% of Total Fare by City Type\")\n",
    "plt.show()\n",
    "\n",
    "\n",
    "# EVIL PAC MAN NOM NOM NOM NOM"
   ]
  },
  {
   "cell_type": "code",
   "execution_count": 50,
   "metadata": {},
   "outputs": [
    {
     "data": {
      "image/png": "[encoded data removed]",
      "text/plain": [
       "<matplotlib.figure.Figure at 0x10f8ec9b0>"
      ]
     },
     "metadata": {},
     "output_type": "display_data"
    }
   ],
   "source": [
    "### Pie Chart - % Total Rides by City Type\n",
    "total_rides = city_ride_df[\"fare\"].count()\n",
    "\n",
    "total_rides_type = city_ride_df.groupby([\"type\"]).count()\n",
    "\n",
    "total_rides_type[\"pct_total_rides\"] = (total_rides_type[\"fare\"]/total_rides) * 100\n",
    "\n",
    "#total_rides_type\n",
    "\n",
    "# create pie chart\n",
    "explode = [0,0,.1]\n",
    "col_list = pd.DataFrame({\"type\": total_rides_type.index.values})\n",
    "col_map = col_list[\"type\"].map({\"Urban\": \"lightcoral\", \"Suburban\": \"lightskyblue\", \"Rural\": \"gold\"})\n",
    "plt.pie(total_rides_type[\"pct_total_rides\"], labels=total_rides_type.index, colors=col_map,\n",
    "       autopct=\"%1.1f%%\", shadow=True, startangle=140, explode=explode)\n",
    "\n",
    "#print(total_fares_type)\n",
    "plt.title(\"% of Total Rides by City Type\")\n",
    "plt.show()"
   ]
  },
  {
   "cell_type": "code",
   "execution_count": 51,
   "metadata": {},
   "outputs": [
    {
     "data": {
      "image/png": "[encoded data removed]",
      "text/plain": [
       "<matplotlib.figure.Figure at 0x10fcfd3c8>"
      ]
     },
     "metadata": {},
     "output_type": "display_data"
    }
   ],
   "source": [
    "### Pie Chart - % Total Driver by City Type\n",
    "total_drivers = city_data_df[\"driver_count\"].sum()\n",
    "total_drivers_type = city_data_df.groupby([\"type\"]).sum()\n",
    "\n",
    "total_drivers_type[\"pct_total_drivers\"] = (total_drivers_type[\"driver_count\"]/total_drivers) * 100\n",
    "\n",
    "#total_drivers_type\n",
    "\n",
    "# create pie chart\n",
    "explode = [0,0,.1]\n",
    "col_list = pd.DataFrame({\"type\": total_drivers_type.index.values})\n",
    "col_map = col_list[\"type\"].map({\"Urban\": \"lightcoral\", \"Suburban\": \"lightskyblue\", \"Rural\": \"gold\"})\n",
    "plt.pie(total_drivers_type[\"pct_total_drivers\"], labels=total_drivers_type.index, colors=col_map,\n",
    "       autopct=\"%1.1f%%\", shadow=True, startangle=140, explode=explode)\n",
    "\n",
    "#print(total_fares_type)\n",
    "plt.title(\"% of Total Drivers by City Type\")\n",
    "plt.show()"
   ]
  }
 ],
 "metadata": {
  "kernelspec": {
   "display_name": "Python 3",
   "language": "python",
   "name": "python3"
  },
  "language_info": {
   "codemirror_mode": {
    "name": "ipython",
    "version": 3
   },
   "file_extension": ".py",
   "mimetype": "text/x-python",
   "name": "python",
   "nbconvert_exporter": "python",
   "pygments_lexer": "ipython3",
   "version": "3.6.3"
  }
 },
 "nbformat": 4,
 "nbformat_minor": 2
}
